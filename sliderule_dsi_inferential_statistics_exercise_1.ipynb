{
 "cells": [
  {
   "cell_type": "markdown",
   "metadata": {},
   "source": [
    "# What is the True Normal Human Body Temperature? \n",
    "\n",
    "#### Background\n",
    "\n",
    "The mean normal body temperature was held to be 37$^{\\circ}$C or 98.6$^{\\circ}$F for more than 120 years since it was first conceptualized and reported by Carl Wunderlich in a famous 1868 book. But, is this value statistically correct?"
   ]
  },
  {
   "cell_type": "markdown",
   "metadata": {},
   "source": [
    "<h3>Exercises</h3>\n",
    "\n",
    "<p>In this exercise, you will analyze a dataset of human body temperatures and employ the concepts of hypothesis testing, confidence intervals, and statistical significance.</p>\n",
    "\n",
    "<p>Answer the following questions <b>in this notebook below and submit to your Github account</b>.</p> \n",
    "\n",
    "<ol>\n",
    "<li>  Is the distribution of body temperatures normal? \n",
    "    <ul>\n",
    "    <li> Although this is not a requirement for the Central Limit Theorem to hold (read the introduction on Wikipedia's page about the CLT carefully: https://en.wikipedia.org/wiki/Central_limit_theorem), it gives us some peace of mind that the population may also be normally distributed if we assume that this sample is representative of the population.\n",
    "    <li> Think about the way you're going to check for the normality of the distribution. Graphical methods are usually used first, but there are also other ways: https://en.wikipedia.org/wiki/Normality_test\n",
    "    </ul>\n",
    "<li>  Is the sample size large? Are the observations independent?\n",
    "    <ul>\n",
    "    <li> Remember that this is a condition for the Central Limit Theorem, and hence the statistical tests we are using, to apply.\n",
    "    </ul>\n",
    "<li>  Is the true population mean really 98.6 degrees F?\n",
    "    <ul>\n",
    "    <li> First, try a bootstrap hypothesis test.\n",
    "    <li> Now, let's try frequentist statistical testing. Would you use a one-sample or two-sample test? Why?\n",
    "    <li> In this situation, is it appropriate to use the $t$ or $z$ statistic? \n",
    "    <li> Now try using the other test. How is the result be different? Why?\n",
    "    </ul>\n",
    "<li>  Draw a small sample of size 10 from the data and repeat both frequentist tests. \n",
    "    <ul>\n",
    "    <li> Which one is the correct one to use? \n",
    "    <li> What do you notice? What does this tell you about the difference in application of the $t$ and $z$ statistic?\n",
    "    </ul>\n",
    "<li>  At what temperature should we consider someone's temperature to be \"abnormal\"?\n",
    "    <ul>\n",
    "    <li> As in the previous example, try calculating everything using the boostrap approach, as well as the frequentist approach.\n",
    "    <li> Start by computing the margin of error and confidence interval. When calculating the confidence interval, keep in mind that you should use the appropriate formula for one draw, and not N draws.\n",
    "    </ul>\n",
    "<li>  Is there a significant difference between males and females in normal temperature?\n",
    "    <ul>\n",
    "    <li> What testing approach did you use and why?\n",
    "    <li> Write a story with your conclusion in the context of the original problem.\n",
    "    </ul>\n",
    "</ol>\n",
    "\n",
    "You can include written notes in notebook cells using Markdown: \n",
    "   - In the control panel at the top, choose Cell > Cell Type > Markdown\n",
    "   - Markdown syntax: http://nestacms.com/docs/creating-content/markdown-cheat-sheet\n",
    "\n",
    "#### Resources\n",
    "\n",
    "+ Information and data sources: http://www.amstat.org/publications/jse/datasets/normtemp.txt, http://www.amstat.org/publications/jse/jse_data_archive.htm\n",
    "+ Markdown syntax: http://nestacms.com/docs/creating-content/markdown-cheat-sheet\n",
    "\n",
    "****"
   ]
  },
  {
   "cell_type": "code",
   "execution_count": 1,
   "metadata": {},
   "outputs": [
    {
     "data": {
      "text/html": [
       "<div>\n",
       "<style scoped>\n",
       "    .dataframe tbody tr th:only-of-type {\n",
       "        vertical-align: middle;\n",
       "    }\n",
       "\n",
       "    .dataframe tbody tr th {\n",
       "        vertical-align: top;\n",
       "    }\n",
       "\n",
       "    .dataframe thead th {\n",
       "        text-align: right;\n",
       "    }\n",
       "</style>\n",
       "<table border=\"1\" class=\"dataframe\">\n",
       "  <thead>\n",
       "    <tr style=\"text-align: right;\">\n",
       "      <th></th>\n",
       "      <th>temperature</th>\n",
       "      <th>gender</th>\n",
       "      <th>heart_rate</th>\n",
       "    </tr>\n",
       "  </thead>\n",
       "  <tbody>\n",
       "    <tr>\n",
       "      <th>0</th>\n",
       "      <td>99.3</td>\n",
       "      <td>F</td>\n",
       "      <td>68.0</td>\n",
       "    </tr>\n",
       "    <tr>\n",
       "      <th>1</th>\n",
       "      <td>98.4</td>\n",
       "      <td>F</td>\n",
       "      <td>81.0</td>\n",
       "    </tr>\n",
       "    <tr>\n",
       "      <th>2</th>\n",
       "      <td>97.8</td>\n",
       "      <td>M</td>\n",
       "      <td>73.0</td>\n",
       "    </tr>\n",
       "    <tr>\n",
       "      <th>3</th>\n",
       "      <td>99.2</td>\n",
       "      <td>F</td>\n",
       "      <td>66.0</td>\n",
       "    </tr>\n",
       "    <tr>\n",
       "      <th>4</th>\n",
       "      <td>98.0</td>\n",
       "      <td>F</td>\n",
       "      <td>73.0</td>\n",
       "    </tr>\n",
       "  </tbody>\n",
       "</table>\n",
       "</div>"
      ],
      "text/plain": [
       "   temperature gender  heart_rate\n",
       "0         99.3      F        68.0\n",
       "1         98.4      F        81.0\n",
       "2         97.8      M        73.0\n",
       "3         99.2      F        66.0\n",
       "4         98.0      F        73.0"
      ]
     },
     "execution_count": 1,
     "metadata": {},
     "output_type": "execute_result"
    }
   ],
   "source": [
    "# Import packages and data --> check the head of data table\n",
    "import pandas as pd\n",
    "import numpy as np\n",
    "import matplotlib.pyplot as plt\n",
    "import seaborn as sns\n",
    "from scipy.stats import shapiro, anderson\n",
    "from scipy import stats\n",
    "\n",
    "df = pd.read_csv('data/human_body_temperature.csv')\n",
    "df.head()"
   ]
  },
  {
   "cell_type": "code",
   "execution_count": 2,
   "metadata": {},
   "outputs": [
    {
     "data": {
      "text/plain": [
       "130"
      ]
     },
     "execution_count": 2,
     "metadata": {},
     "output_type": "execute_result"
    }
   ],
   "source": [
    "# Number of observations\n",
    "df.shape[0]"
   ]
  },
  {
   "cell_type": "markdown",
   "metadata": {},
   "source": [
    "### Is the distribution of body temperatures normal? "
   ]
  },
  {
   "cell_type": "code",
   "execution_count": 3,
   "metadata": {},
   "outputs": [],
   "source": [
    "# Function for Empirical Cummulative Distribution Function (ECDF)\n",
    "def ecdf(col):\n",
    "    import numpy as np\n",
    "    x = np.sort(col)\n",
    "    y = np.arange(1, len(x) + 1) / len(x)\n",
    "    return(x, y)"
   ]
  },
  {
   "cell_type": "code",
   "execution_count": 4,
   "metadata": {},
   "outputs": [],
   "source": [
    "# Randon sample with mean and standard deviation from df\n",
    "mean = np.mean(df.temperature)\n",
    "std = np.std(df.temperature)\n",
    "np.random.seed(2018)\n",
    "samples = np.random.normal(mean, std, size = 10000)"
   ]
  },
  {
   "cell_type": "code",
   "execution_count": 5,
   "metadata": {},
   "outputs": [
    {
     "data": {
      "image/png": "[encoded data removed]",
      "text/plain": [
       "<matplotlib.figure.Figure at 0x11241588>"
      ]
     },
     "metadata": {},
     "output_type": "display_data"
    }
   ],
   "source": [
    "# ECDFs from df and samples --> plots using the defualt seaborn setting\n",
    "x, y = ecdf(df.temperature)\n",
    "x_theor, y_theor = ecdf(samples)\n",
    "\n",
    "sns.set()\n",
    "_ = plt.plot(x_theor, y_theor, label = 'Samples')\n",
    "_ = plt.plot(x, y, marker = '.', linestyle = 'none', label = 'Data')\n",
    "_ = plt.xlabel('Body temperature in F')\n",
    "_ = plt.ylabel('Cummulative distribution')\n",
    "_ = plt.title('ECDFs of normal random samples and observed data')\n",
    "_ = plt.legend(loc = 'lower right')\n",
    "plt.show()"
   ]
  },
  {
   "cell_type": "code",
   "execution_count": 6,
   "metadata": {},
   "outputs": [
    {
     "name": "stdout",
     "output_type": "stream",
     "text": [
      "Statistics: 0.987 \n",
      "p: 0.233\n",
      "Sample looks Gaussian (fail to reject H0)\n"
     ]
    }
   ],
   "source": [
    "# Shapiro-Wilk test\n",
    "stat, p = shapiro(df.temperature)\n",
    "print('Statistics: %.3f \\np: %.3f' % (stat, p))\n",
    "\n",
    "# interpretation\n",
    "alpha = 0.05\n",
    "if p > alpha:\n",
    "    print('Sample looks Gaussian (fail to reject H0)')\n",
    "else:\n",
    "    print('Sample does not look Gaussian (reject H0)')"
   ]
  },
  {
   "cell_type": "code",
   "execution_count": 7,
   "metadata": {},
   "outputs": [
    {
     "name": "stdout",
     "output_type": "stream",
     "text": [
      "Statistic: 0.520\n",
      "\n",
      "significance_level: critical_value\n",
      "              15.0:          0.560, data looks normal (fail to reject H0)\n",
      "              10.0:          0.637, data looks normal (fail to reject H0)\n",
      "               5.0:          0.765, data looks normal (fail to reject H0)\n",
      "               2.5:          0.892, data looks normal (fail to reject H0)\n",
      "               1.0:          1.061, data looks normal (fail to reject H0)\n"
     ]
    }
   ],
   "source": [
    "# Anderson-Darling test\n",
    "result = anderson(df.temperature)\n",
    "print('Statistic: %.3f' % result.statistic)\n",
    "\n",
    "# Interpretation\n",
    "print('\\nsignificance_level: critical_value')\n",
    "for i in range(len(result.critical_values)):\n",
    "    sl, cv = result.significance_level[i], result.critical_values[i]\n",
    "    if result.statistic < result.critical_values[i]:\n",
    "        print('%18.1f: %14.3f, data looks normal (fail to reject H0)' % (sl, cv))\n",
    "    else:\n",
    "        print('%18.1f: %14.3f, data does not look normal (reject H0)' % (sl, cv))"
   ]
  },
  {
   "cell_type": "markdown",
   "metadata": {},
   "source": [
    "From the ECDFs, we assume that the observed data come from normally distributed population as the data points are well set on the line of the randomly generated normal samples.  Addition to this, we conducted two normality tests, namely Shapiro-Wilk and Anderson_Darling - they tell us that the observed datset is normally distributed at any confidence levels that we are usually considered in statistics."
   ]
  },
  {
   "cell_type": "markdown",
   "metadata": {},
   "source": [
    "### Is the sample size large? Are the observations independent?"
   ]
  },
  {
   "cell_type": "markdown",
   "metadata": {},
   "source": [
    "The sample size of 130 is regarded as a sufficiently large enough to implement statistical testing for hypotheses.  Under the assumption of no one attended multiple times to measure their temperatures, the data are regarded as independent since one person's temperature does not affect to others."
   ]
  },
  {
   "cell_type": "markdown",
   "metadata": {},
   "source": [
    "### Is the true population mean really 98.6 degrees F? "
   ]
  },
  {
   "cell_type": "code",
   "execution_count": 8,
   "metadata": {},
   "outputs": [
    {
     "name": "stdout",
     "output_type": "stream",
     "text": [
      "Probaility of observation or extreme under the null hypothesis:  0.0\n"
     ]
    }
   ],
   "source": [
    "# Bootstrap hypothesis test\n",
    "# H0: our data came from the poputation mean of 98.6F\n",
    "pop_mean = 98.6\n",
    "sample_mean = np.mean(df.temperature)\n",
    "num_reps = 100000 # number of replicates we draw\n",
    "\n",
    "def draw_bs_reps(data, func, size = 1): # Function for bootstrap replicates\n",
    "    bs_replicates = np.empty(size)\n",
    "    \n",
    "    for i in range(size):\n",
    "        bs_sample = np.random.choice(data, len(data))\n",
    "        bs_replicates[i] = func(bs_sample)\n",
    "    \n",
    "    return bs_replicates\n",
    "\n",
    "bs_reps = draw_bs_reps(df.temperature, np.mean, num_reps) # draw replicates\n",
    "\n",
    "p = np.sum(bs_reps >= pop_mean) / num_reps # compute p-value\n",
    "print('Probaility of observation or extreme under the null hypothesis: ', p)"
   ]
  },
  {
   "cell_type": "markdown",
   "metadata": {},
   "source": [
    "Under the assumption of the null hypothesis, the probability of the observation or more extreme cases is 0 from the bootstrap hypothsis test. So we can conclude that the our data did not come from the population with mean temperture of 98.6F."
   ]
  },
  {
   "cell_type": "code",
   "execution_count": 9,
   "metadata": {},
   "outputs": [
    {
     "name": "stdout",
     "output_type": "stream",
     "text": [
      "p-value from t-score:  1.0943732312047587e-07\n"
     ]
    }
   ],
   "source": [
    "# Now, let's try frequentist statistical testing. Would you use a one-sample or two-sample test? Why? \n",
    "# One-sample test as we have only one dataset: t-test as we don't know the population SD\n",
    "mu = 98.6\n",
    "sample_mean = np.mean(df.temperature)\n",
    "standard_error = np.std(df.temperature)\n",
    "num_samples = len(df.temperature) # number of samples\n",
    "t_score = (sample_mean - mu) / (standard_error / np.sqrt(num_samples)) # t-score for the sample\n",
    "p = stats.t.cdf(t_score, df = num_samples - 1)\n",
    "print('p-value from t-score: ', p)"
   ]
  },
  {
   "cell_type": "raw",
   "metadata": {},
   "source": [
    "* In this situation, is it appropriate to use the t- or z-statistic? \n",
    "\n",
    "We do not know the standard error of the population, so t-test is appropriate.  In this case, the difference from the z-test is using sample standard error to compute t-score.  However, the sample size (130) is sufficient - we say if it is over 30 - to have the similar distribution with z-distribution.  \n"
   ]
  },
  {
   "cell_type": "code",
   "execution_count": 10,
   "metadata": {},
   "outputs": [
    {
     "name": "stdout",
     "output_type": "stream",
     "text": [
      "p-value from z-score:  2.1761575829410943e-08\n"
     ]
    }
   ],
   "source": [
    "# Now try using the other test. How is the result be different? Why? \n",
    "z_score = t_score\n",
    "p= stats.norm.cdf(z_score)\n",
    "print('p-value from z-score: ', p)"
   ]
  },
  {
   "cell_type": "markdown",
   "metadata": {},
   "source": [
    "The p-values from t-test and z-test are very close each other, but not exactly same; this is because that z-distribution has lighter tails comparing ones of t-distribution. When we compute the probobility of the extreme observations, tail weights effect the p-value. As a result, the p-value from the t-test has smaller value than one form t-test. "
   ]
  },
  {
   "cell_type": "markdown",
   "metadata": {},
   "source": [
    "### Draw a small sample of size 10 from the data and repeat both frequentist tests. "
   ]
  },
  {
   "cell_type": "code",
   "execution_count": 11,
   "metadata": {},
   "outputs": [
    {
     "data": {
      "text/plain": [
       "array([98. , 98.6, 98. , 98. , 98.8, 99.1, 98.6, 96.9, 98.2, 97.9])"
      ]
     },
     "execution_count": 11,
     "metadata": {},
     "output_type": "execute_result"
    }
   ],
   "source": [
    "# Draw a sample of ten elements with replacement\n",
    "np.random.seed(2018)\n",
    "size_10_samp = np.random.choice(df.temperature, 10)\n",
    "size_10_samp"
   ]
  },
  {
   "cell_type": "code",
   "execution_count": 12,
   "metadata": {},
   "outputs": [
    {
     "name": "stdout",
     "output_type": "stream",
     "text": [
      "p-value from t-score:  0.0315956024996138\n"
     ]
    }
   ],
   "source": [
    "# t-test\n",
    "mu = 98.6\n",
    "sample_mean = np.mean(size_10_samp)\n",
    "standard_error = np.std(size_10_samp)\n",
    "num_samples = len(size_10_samp) \n",
    "t_score = (sample_mean - mu) / (standard_error / np.sqrt(num_samples)) # t-score for the sample\n",
    "p = stats.t.cdf(t_score, df = num_samples - 1)\n",
    "print('p-value from t-score: ', p)"
   ]
  },
  {
   "cell_type": "code",
   "execution_count": 13,
   "metadata": {},
   "outputs": [
    {
     "name": "stdout",
     "output_type": "stream",
     "text": [
      "p-value from z-score:  0.01706629935621105\n"
     ]
    }
   ],
   "source": [
    "# z-test\n",
    "z_score = t_score\n",
    "p= stats.norm.cdf(z_score)\n",
    "print('p-value from z-score: ', p)"
   ]
  },
  {
   "cell_type": "markdown",
   "metadata": {},
   "source": [
    "Both of these p-values are significantly greater than those from the earlier excise, with 150 observations. Also the p-value from t-test is larger, in almost double, than it from z-test. This is due to the small sample size, and we should take the t-test rather than z-test in this case."
   ]
  },
  {
   "cell_type": "markdown",
   "metadata": {},
   "source": [
    "### At what temperature should we consider someone's temperature to be \"abnormal\"? "
   ]
  },
  {
   "cell_type": "code",
   "execution_count": 14,
   "metadata": {},
   "outputs": [
    {
     "name": "stdout",
     "output_type": "stream",
     "text": [
      "Confidence interval within 3se:  [98.0582127202945, 98.44097934124397] \n",
      "Probaility of observation outside ci:  0.00289\n"
     ]
    }
   ],
   "source": [
    "# Replicates bootstrap sampling for mean --> computes confidence interval with 3se\n",
    "num_reps = 100000 # number of replicates we draw\n",
    "\n",
    "def draw_bs_reps(data, func, size = 1): # Function for bootstrap replicates\n",
    "    bs_replicates = np.empty(size)\n",
    "    \n",
    "    for i in range(size):\n",
    "        bs_sample = np.random.choice(data, len(data))\n",
    "        bs_replicates[i] = func(bs_sample)\n",
    "    \n",
    "    return bs_replicates\n",
    "\n",
    "bs_reps = draw_bs_reps(df.temperature, np.mean, num_reps) # draw replicates\n",
    "\n",
    "mean = np.mean(bs_reps) # mean of the replicated sample means\n",
    "se = np.std(bs_reps) # standard error of the replicated sample means\n",
    "margin_of_error = se * 3 # set the margin of error with 3*se (as regarded in general)\n",
    "ci = [mean - margin_of_error, mean + margin_of_error] # confidence interval within three standard errors\n",
    "p = np.sum((bs_reps <= ci[0] ) | (bs_reps >= ci[1])) / num_reps # p-value of ether sides of extremes\n",
    "\n",
    "print('Confidence interval within 3se: ', ci, '\\nProbaility of observation outside ci: ', p)"
   ]
  },
  {
   "cell_type": "markdown",
   "metadata": {},
   "source": [
    "From the bootstrap replicates above, we can say that someone having under 98.1F or above 98.4F should be regarded as too-low or -high temperatures, respectively.  These cases lie outside of three standard errors with the probability of less than 0.003 from our simulation."
   ]
  },
  {
   "cell_type": "markdown",
   "metadata": {},
   "source": [
    "### Is there a significant difference between males and females in normal temperature?"
   ]
  },
  {
   "cell_type": "code",
   "execution_count": 15,
   "metadata": {},
   "outputs": [
    {
     "data": {
      "image/png": "[encoded data removed]",
      "text/plain": [
       "<matplotlib.figure.Figure at 0x1332a358>"
      ]
     },
     "metadata": {},
     "output_type": "display_data"
    }
   ],
   "source": [
    "# What testing approach did you use and why? \n",
    "# H0: Male and female have the same mean temperature\n",
    "# Create two subsets, one for male and the other for femal \n",
    "# EDA first\n",
    "\n",
    "temp_m = df[df.gender == 'M'].temperature # 65 obs for male\n",
    "temp_f = df[df.gender == 'F'].temperature # 65 obs fro female\n",
    "\n",
    "x_male, y_male = ecdf(temp_m) # ecdf: defined earlier\n",
    "x_female, y_female = ecdf(temp_f)\n",
    "\n",
    "_ = plt.plot(x_male, y_male, marker = '.', linestyle = 'none', color = 'blue')\n",
    "_ = plt.plot(x_female, y_female, marker = '.', linestyle = 'none', color = 'red')\n",
    "_ = plt.xlabel('Body temperatuer in F')\n",
    "_ = plt.ylabel('ECDF')\n",
    "_ = plt.legend(['Male', 'Female'], loc = 'lower right')\n",
    "plt.show()"
   ]
  },
  {
   "cell_type": "code",
   "execution_count": 16,
   "metadata": {},
   "outputs": [
    {
     "name": "stdout",
     "output_type": "stream",
     "text": [
      "p-value of mean difference:  0.01207\n"
     ]
    }
   ],
   "source": [
    "# Use two-sample bootstrap  hypothsis test since we have two sets of data for male and female\n",
    "\n",
    "temp_concat = np.concatenate((temp_m, temp_f)) # concatenate two sets\n",
    "num_reps = 100000 # number of replicates\n",
    "\n",
    "def diff_of_means(data1, data2): # function for compute the mean difference\n",
    "    mean1 = np.mean(data1)\n",
    "    mean2 = np.mean(data2)\n",
    "    \n",
    "    return mean1 - mean2\n",
    "\n",
    "obs_diff_mean = diff_of_means(temp_m, temp_f) # mean difference from out observation: -0.29\n",
    "\n",
    "bs_diff_means = np.empty(num_reps) # initialise the array\n",
    "\n",
    "for i in range(num_reps): # impliments bootstrap replicates for the mean difference\n",
    "    bs_temp = np.random.choice(temp_concat, len(temp_concat))\n",
    "    bs_diff_means[i] = diff_of_means(bs_temp[:len(temp_m)], bs_temp[len(temp_m):])\n",
    "\n",
    "p = np.sum(bs_diff_means <= obs_diff_mean) / num_reps\n",
    "print('p-value of mean difference: ', p)"
   ]
  },
  {
   "cell_type": "code",
   "execution_count": 17,
   "metadata": {},
   "outputs": [
    {
     "data": {
      "text/plain": [
       "-0.289230769230727"
      ]
     },
     "execution_count": 17,
     "metadata": {},
     "output_type": "execute_result"
    }
   ],
   "source": [
    "# Mean difference of body temperatures from the observation\n",
    "obs_diff_mean"
   ]
  },
  {
   "cell_type": "markdown",
   "metadata": {},
   "source": [
    "From the bootstrap hypothsis test for the mean difference between gender, we can say that there is a significant difference in the mean temparature in the male and female - the body temperature of female is 0.29F higher than male's from the observed dataset."
   ]
  },
  {
   "cell_type": "code",
   "execution_count": 18,
   "metadata": {},
   "outputs": [],
   "source": [
    "# Write a story with your conclusion in the context of the original problem."
   ]
  },
  {
   "cell_type": "markdown",
   "metadata": {},
   "source": [
    "In conclusion, Carl Wunderlich's dataset seems to be different from the general belief of the body temperature of 98.6F according to our a number of hypothsis tests, such as bootstrapping, t-test and z-test. His data averaged 98.2F which is 0.4F lower than the normal knowledge.  Also, his data shows that the mean temperatuers between gender are significantly different. "
   ]
  }
 ],
 "metadata": {
  "kernelspec": {
   "display_name": "Python 3",
   "language": "python",
   "name": "python3"
  },
  "language_info": {
   "codemirror_mode": {
    "name": "ipython",
    "version": 3
   },
   "file_extension": ".py",
   "mimetype": "text/x-python",
   "name": "python",
   "nbconvert_exporter": "python",
   "pygments_lexer": "ipython3",
   "version": "3.6.4"
  }
 },
 "nbformat": 4,
 "nbformat_minor": 1
}
